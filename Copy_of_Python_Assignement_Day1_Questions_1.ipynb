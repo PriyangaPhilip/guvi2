{
  "cells": [
    {
      "cell_type": "markdown",
      "metadata": {
        "id": "D-KgkVX3IZ-S"
      },
      "source": [
        "1.  Python Program to exchange the values of two numbers without using a temporary variable."
      ]
    },
    {
      "cell_type": "code",
      "execution_count": null,
      "metadata": {
        "id": "yldf_YhdIZ-T"
      },
      "outputs": [],
      "source": [
        "a=int(input())\n",
        "b=int(input())\n",
        "a,b=b,a\n",
        "print(a,b)"
      ]
    },
    {
      "cell_type": "code",
      "source": [],
      "metadata": {
        "id": "11cYETUA6i90"
      },
      "execution_count": null,
      "outputs": []
    },
    {
      "cell_type": "markdown",
      "source": [],
      "metadata": {
        "id": "7ffOZCoj7nIj"
      }
    },
    {
      "cell_type": "code",
      "source": [],
      "metadata": {
        "id": "z-yZ47ns-7d_"
      },
      "execution_count": null,
      "outputs": []
    },
    {
      "cell_type": "markdown",
      "metadata": {
        "id": "MrK3aZMGIZ-Y"
      },
      "source": [
        "2. Write a python code to replace all  \"a\"  with 2 for the given variable\n",
        "s = 'abc12321cba'"
      ]
    },
    {
      "cell_type": "code",
      "execution_count": null,
      "metadata": {
        "id": "J7rr7O5XIZ-Z"
      },
      "outputs": [],
      "source": [
        "s = 'abc12321cba'\n",
        "rep=s.replace('a','2')\n",
        "print(rep)"
      ]
    },
    {
      "cell_type": "markdown",
      "metadata": {
        "id": "Zo8gMGlbIZ-g"
      },
      "source": [
        "3. Python code for to  remove first character in string?"
      ]
    },
    {
      "cell_type": "code",
      "execution_count": null,
      "metadata": {
        "id": "XTIKmVpiIZ-h"
      },
      "outputs": [],
      "source": [
        "a='hello guvi'\n",
        "c=a[1:]\n",
        "print(c)\n"
      ]
    },
    {
      "cell_type": "markdown",
      "metadata": {
        "id": "XBhfFfEIIZ-n"
      },
      "source": [
        "4. Concatenate two strings  \n",
        "First Input : \"hello\"\n",
        "Second Input : \"guvi\"\n",
        "desired output :   \"hello guvi\""
      ]
    },
    {
      "cell_type": "code",
      "execution_count": null,
      "metadata": {
        "id": "qVhNDe9mIZ-p"
      },
      "outputs": [],
      "source": [
        "a=\"hello\"\n",
        "b=\"guvi\"\n",
        "print(a,b)"
      ]
    },
    {
      "cell_type": "markdown",
      "metadata": {
        "id": "W1CyejMTIZ-t"
      },
      "source": [
        "5. Repeat the string \"hello guvi\" 3 times\n",
        "desired output :  'hello guvi hello guvi hello guvi '"
      ]
    },
    {
      "cell_type": "code",
      "execution_count": null,
      "metadata": {
        "id": "6B83XYHVIZ-u"
      },
      "outputs": [],
      "source": [
        "a=\"hello guvi\"\n",
        "b=a*3\n",
        "print(b)"
      ]
    },
    {
      "cell_type": "markdown",
      "metadata": {
        "id": "4oblWnrSIZ-y"
      },
      "source": [
        "6. Create 3 variables a1,a2,a3. Assign the same value \" 4 \" to all the variables in a single line of code."
      ]
    },
    {
      "cell_type": "code",
      "execution_count": null,
      "metadata": {
        "id": "O7nH3nd-IZ-y"
      },
      "outputs": [],
      "source": [
        "a1=a2=a3=4"
      ]
    },
    {
      "cell_type": "markdown",
      "metadata": {
        "id": "fs_t4D-oIZ-2"
      },
      "source": [
        "7. Calculate BMI of a person using the height and weight.\n",
        "BMI = weight / (height **2)\n"
      ]
    },
    {
      "cell_type": "code",
      "execution_count": null,
      "metadata": {
        "id": "N_VZSoYjIZ-3"
      },
      "outputs": [],
      "source": [
        "weight=int(input())\n",
        "height=int(input())\n",
        "bmi=weight/(height**2)\n",
        "print(bmi)"
      ]
    },
    {
      "cell_type": "markdown",
      "metadata": {
        "id": "JgXK2m28IZ-7"
      },
      "source": [
        "8.Write a python program to calculate the area of circle."
      ]
    },
    {
      "cell_type": "code",
      "execution_count": null,
      "metadata": {
        "id": "m73v7qoCIZ-8"
      },
      "outputs": [],
      "source": [
        "r=int(input())\n",
        "pi=3.14\n",
        "area=(pi)*(r**2)\n",
        "print(area)"
      ]
    },
    {
      "cell_type": "markdown",
      "metadata": {
        "id": "BHXFt9VwIZ_A"
      },
      "source": [
        "9.Calculate the simple interest\n",
        "simple_interest = p * n * r /100"
      ]
    },
    {
      "cell_type": "code",
      "execution_count": null,
      "metadata": {
        "id": "7wHLjXC4IZ_B"
      },
      "outputs": [],
      "source": [
        "p=int(input())\n",
        "n=int(input())\n",
        "r=int(input())\n",
        "out=(p*n*r)/100\n",
        "print(out)"
      ]
    },
    {
      "cell_type": "markdown",
      "metadata": {
        "id": "afLADSCGIZ_G"
      },
      "source": [
        "10.Python code to calculate the square root of the given number(run time variable)"
      ]
    },
    {
      "cell_type": "code",
      "execution_count": null,
      "metadata": {
        "id": "XBTku4euIZ_H"
      },
      "outputs": [],
      "source": [
        "a=int(input())\n",
        "for i in range(1,a):\n",
        "  if i*i==a:\n",
        "    print(i)"
      ]
    }
  ],
  "metadata": {
    "colab": {
      "provenance": []
    },
    "kernelspec": {
      "display_name": "Python 3 (ipykernel)",
      "language": "python",
      "name": "python3"
    },
    "language_info": {
      "codemirror_mode": {
        "name": "ipython",
        "version": 3
      },
      "file_extension": ".py",
      "mimetype": "text/x-python",
      "name": "python",
      "nbconvert_exporter": "python",
      "pygments_lexer": "ipython3",
      "version": "3.9.13"
    }
  },
  "nbformat": 4,
  "nbformat_minor": 0
}